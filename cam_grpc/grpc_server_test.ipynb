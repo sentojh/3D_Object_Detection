{
 "cells": [
  {
   "cell_type": "code",
   "execution_count": null,
   "metadata": {},
   "outputs": [],
   "source": [
    "from concurrent import futures\n",
    "import logging\n",
    "import math\n",
    "import time\n",
    "import grpc\n",
    "import RemoteCam_pb2\n",
    "import RemoteCam_pb2_grpc\n",
    "from threading import Thread\n",
    "import cv2\n",
    "import numpy as np\n",
    "\n",
    "PORT_CAM = 10509\n",
    "\n",
    "class RemoteCamServicer(RemoteCam_pb2_grpc.RemoteCamProtoServicer):\n",
    "    def __init__(self):\n",
    "        pass # init cam here\n",
    "\n",
    "    def GetImage(self, request, context):\n",
    "        request_id = request.request_id\n",
    "        color = cv2.imread(\"test-container.png\")         # sample image\n",
    "        depth = cv2.cvtColor(color, cv2.COLOR_BGR2GRAY)  # fake depth map with gray image\n",
    "        return RemoteCam_pb2.GetImageResponse(response_id=request_id,\n",
    "                                              width=color.shape[1],height=color.shape[0],\n",
    "                                              color=color.flatten(),\n",
    "                                              depth=depth.flatten())"
   ]
  },
  {
   "cell_type": "code",
   "execution_count": null,
   "metadata": {},
   "outputs": [],
   "source": [
    "def serve(servicer, host='[::]'):\n",
    "    server = grpc.server(futures.ThreadPoolExecutor(max_workers=10))\n",
    "    RemoteCam_pb2_grpc.add_RemoteCamProtoServicer_to_server(\n",
    "        servicer, server)\n",
    "    server.add_insecure_port('{}:{}'.format(host, PORT_CAM))\n",
    "    server.start()\n",
    "    server.wait_for_termination()\n",
    "\n",
    "\n",
    "if __name__ == '__main__':\n",
    "    logging.basicConfig()\n",
    "    servicer = RemoteCamServicer()\n",
    "    serve(servicer)"
   ]
  },
  {
   "cell_type": "code",
   "execution_count": null,
   "metadata": {},
   "outputs": [],
   "source": []
  },
  {
   "cell_type": "code",
   "execution_count": null,
   "metadata": {},
   "outputs": [],
   "source": []
  },
  {
   "cell_type": "code",
   "execution_count": null,
   "metadata": {},
   "outputs": [],
   "source": []
  }
 ],
 "metadata": {
  "kernelspec": {
   "display_name": "Python 2",
   "language": "python",
   "name": "python2"
  },
  "language_info": {
   "codemirror_mode": {
    "name": "ipython",
    "version": 2
   },
   "file_extension": ".py",
   "mimetype": "text/x-python",
   "name": "python",
   "nbconvert_exporter": "python",
   "pygments_lexer": "ipython2",
   "version": "2.7.17"
  }
 },
 "nbformat": 4,
 "nbformat_minor": 2
}
